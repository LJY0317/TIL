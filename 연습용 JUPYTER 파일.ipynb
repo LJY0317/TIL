{
 "cells": [
  {
   "cell_type": "code",
   "execution_count": 2,
   "id": "cfab363c",
   "metadata": {},
   "outputs": [],
   "source": [
    "import csv\n",
    "import numpy as np\n",
    "import pandas as pd"
   ]
  },
  {
   "cell_type": "code",
   "execution_count": 54,
   "id": "efa939ec",
   "metadata": {},
   "outputs": [
    {
     "name": "stdout",
     "output_type": "stream",
     "text": [
      "[[10, 11, 12], [15, 16, 17], [20, 21, 22]]\n"
     ]
    }
   ],
   "source": [
    "arr = [[0, 1, 2, 3, 4], [5, 6, 7, 8, 9], [10, 11, 12, 13, 14], [15, 16, 17, 18, 19], [20, 21, 22, 23, 24]]\n",
    "print([arr[:3] for arr in arr[2:]])"
   ]
  },
  {
   "cell_type": "code",
   "execution_count": null,
   "id": "1875b63f",
   "metadata": {},
   "outputs": [
    {
     "name": "stdout",
     "output_type": "stream",
     "text": [
      "[[ 0  1  2  3  4]\n",
      " [ 5  6  7  8  9]\n",
      " [10 11 12 13 14]\n",
      " [15 16 17 18 19]\n",
      " [20 21 22 23 24]]\n"
     ]
    }
   ],
   "source": [
    "arr = np.arange(25).reshape(5, 5)\n",
    "print(arr[1:3, :2])"
   ]
  },
  {
   "cell_type": "code",
   "execution_count": 62,
   "id": "fa5ba26a",
   "metadata": {},
   "outputs": [
    {
     "name": "stdout",
     "output_type": "stream",
     "text": [
      "[[ 0  1  2  3  4]\n",
      " [10 11 12 13 14]\n",
      " [20 21 22 23 24]]\n"
     ]
    }
   ],
   "source": [
    "arr = np.arange(25).reshape(5, 5)\n",
    "print(arr[::2, : :])"
   ]
  },
  {
   "cell_type": "code",
   "execution_count": null,
   "id": "8279cad0",
   "metadata": {},
   "outputs": [],
   "source": []
  }
 ],
 "metadata": {
  "kernelspec": {
   "display_name": "Python 3",
   "language": "python",
   "name": "python3"
  },
  "language_info": {
   "codemirror_mode": {
    "name": "ipython",
    "version": 3
   },
   "file_extension": ".py",
   "mimetype": "text/x-python",
   "name": "python",
   "nbconvert_exporter": "python",
   "pygments_lexer": "ipython3",
   "version": "3.11.9"
  }
 },
 "nbformat": 4,
 "nbformat_minor": 5
}
